{
 "cells": [
  {
   "cell_type": "markdown",
   "metadata": {},
   "source": [
    "This script takes the 2016 DA Geometry file and the 2016 Statscan Census data, and creates a google Earth KMZ file for each province showing areas that are above and below certain population density thresholds.\n",
    "\n",
    "Written by Tom Hastie\n",
    "January 2020\n"
   ]
  },
  {
   "cell_type": "code",
   "execution_count": 1,
   "metadata": {},
   "outputs": [],
   "source": [
    "%matplotlib inline\n",
    "\n",
    "\n",
    "#import required libraries\n",
    "from xml.etree import ElementTree as ET\n",
    "from collections import defaultdict\n",
    "from pyproj import Proj, transform, Transformer\n",
    "\n",
    "import simplekml\n",
    "import pandas as pd\n",
    "\n",
    "import matplotlib.pyplot as plt\n",
    "import numpy as np\n",
    "import matplotlib.ticker as ticker\n"
   ]
  },
  {
   "cell_type": "code",
   "execution_count": 2,
   "metadata": {},
   "outputs": [],
   "source": [
    "#function stolen from the internet. \n",
    "#It takes an XML tree (in this case the Census Data) and turns it into a python dictionary object. \n",
    "\n",
    "def etree_to_dict(t):\n",
    "    d = {t.tag: {} if t.attrib else None}\n",
    "    children = list(t)\n",
    "    if children:\n",
    "        dd = defaultdict(list)\n",
    "        for dc in map(etree_to_dict, children):\n",
    "            for k, v in dc.items():\n",
    "                dd[k].append(v)\n",
    "        d = {t.tag: {k: v[0] if len(v) == 1 else v\n",
    "                     for k, v in dd.items()}}\n",
    "    if t.attrib:\n",
    "        d[t.tag].update(('@' + k, v)\n",
    "                        for k, v in t.attrib.items())\n",
    "    if t.text:\n",
    "        text = t.text.strip()\n",
    "        if children or t.attrib:\n",
    "            if text:\n",
    "              d[t.tag]['#text'] = text\n",
    "        else:\n",
    "            d[t.tag] = text\n",
    "    return d"
   ]
  },
  {
   "cell_type": "code",
   "execution_count": 3,
   "metadata": {},
   "outputs": [],
   "source": [
    "#DA geometry file location \n",
    "file_xml = 'DA_shape_file\\\\lda_000b16g_e.gml'"
   ]
  },
  {
   "cell_type": "code",
   "execution_count": 4,
   "metadata": {},
   "outputs": [],
   "source": [
    "# open up file and parse xml tree using ElementTree module\n",
    "tree = ET.parse(file_xml)"
   ]
  },
  {
   "cell_type": "code",
   "execution_count": 5,
   "metadata": {},
   "outputs": [
    {
     "name": "stdout",
     "output_type": "stream",
     "text": [
      "Number of Disemination Areas: 56589\n",
      "Sample of data extracted:\n",
      "{'UID': 10010244, 'ERNAME': 'Avalon Peninsula', 'surfaceProperty': [{'{http://www.opengis.net/gml}surfaceProperty': {'{http://www.opengis.net/gml}Surface': {'{http://www.opengis.net/gml}patches': {'{http://www.opengis.net/gml}PolygonPatch': {'{http://www.opengis.net/gml}exterior': {'{http://www.opengis.net/gml}LinearRing': {'{http://www.opengis.net/gml}posList': '8976851.14856922 2149576.54285611 8976818.14856922 2149509.53714611 8976752.55428422 2149542.32857111 8976560.31999922 2149661.59143111 8976490.55428422 2149705.07428611 8976354.78571422 2149785.82285611 8976272.75142922 2149821.67714611 8976190.13714422 2149866.79143111 8976195.66571422 2149883.50571611 8976260.85714422 2150016.91714611 8976273.13142922 2150051.04285611 8976272.92285422 2150083.44285611 8976265.71428422 2150121.91143111 8976382.41428422 2150157.02571611 8976439.10285422 2150180.22000111 8976482.51714422 2150206.11714611 8976587.63714422 2150288.98000111 8976596.70571422 2150291.94857111 8976668.80571422 2150336.58000111 8976722.28571422 2150362.41714611 8976780.99428422 2150389.63143111 8976892.28285422 2150426.98857111 8977012.79714422 2150458.65714611 8977072.04571422 2150475.00571611 8977101.92571422 2150483.54571611 8977135.12571422 2150492.93428611 8977335.04285422 2150545.85714611 8977346.74571422 2150484.42285611 8977358.09428422 2150430.22571611 8977363.71428422 2150395.58857111 8977361.20285422 2150378.70000111 8977348.35999922 2150350.41143111 8977341.52285422 2150342.64000111 8977277.22571422 2150260.51143111 8977210.83428422 2150165.92285611 8977155.73714422 2150071.28857111 8977048.44856922 2149896.68000111 8977020.45428422 2149858.42000111 8976996.23428422 2149811.68285611 8976851.14856922 2149576.54285611'}}}}, '@srsName': 'urn:ogc:def:crs:EPSG::3347', '@srsDimension': '2'}}}]}\n",
      "{'UID': 10010245, 'ERNAME': 'Avalon Peninsula', 'surfaceProperty': [{'{http://www.opengis.net/gml}surfaceProperty': {'{http://www.opengis.net/gml}Surface': {'{http://www.opengis.net/gml}patches': {'{http://www.opengis.net/gml}PolygonPatch': {'{http://www.opengis.net/gml}exterior': {'{http://www.opengis.net/gml}LinearRing': {'{http://www.opengis.net/gml}posList': '8977202.17999922 2150836.79428611 8977136.27714422 2150650.26857111 8977122.46571422 2150596.22857111 8977121.26856922 2150564.04571611 8977135.12571422 2150492.93428611 8977101.92571422 2150483.54571611 8977072.04571422 2150475.00571611 8977012.79714422 2150458.65714611 8976892.28285422 2150426.98857111 8976780.99428422 2150389.63143111 8976722.28571422 2150362.41714611 8976698.84571422 2150446.45428611 8976704.47714422 2150513.22285611 8976702.44571422 2150543.01428611 8976687.14571422 2150575.49714611 8976654.18571422 2150614.93428611 8976697.98285422 2150649.80857111 8976732.69142922 2150654.29428611 8976829.66571422 2150653.51428611 8976843.76285422 2150656.44571611 8976876.24571422 2150671.74571611 8976934.30571422 2150689.70571611 8977008.34285422 2150723.27428611 8977035.83142922 2150743.62857111 8977084.90285422 2150807.51143111 8977103.28856922 2150819.88000111 8977157.35714422 2150844.90857111 8977177.47714422 2150844.78571611 8977202.17999922 2150836.79428611'}}}}, '@srsName': 'urn:ogc:def:crs:EPSG::3347', '@srsDimension': '2'}}}]}\n"
     ]
    }
   ],
   "source": [
    "#get the DA UID, Name, and position list from the XML file. \n",
    "#put them in a python list for further processing.\n",
    "i = 0\n",
    "DA_list = []\n",
    "\n",
    "\n",
    "for t in tree.iter('{http://www.safe.com/gml/fme}lda_000b16g_e'):\n",
    "    DA = {}\n",
    "    i+=1\n",
    "    #print(t.findall('{http://www.safe.com/gml/fme}DAUID')[0].text)\n",
    "    DA['UID'] = int(t.findall('{http://www.safe.com/gml/fme}DAUID')[0].text)\n",
    "    DA['ERNAME'] = t.findall('{http://www.safe.com/gml/fme}ERNAME')[0].text\n",
    "    \n",
    "    \n",
    "    #if len(t.findall('{http://www.opengis.net/gml}surfaceProperty')) is not 1:\n",
    "    #    print(len(t.findall('{http://www.opengis.net/gml}surfaceProperty')))\n",
    "        \n",
    "    surface_list = []\n",
    "    \n",
    "    for surface in t.findall('{http://www.opengis.net/gml}surfaceProperty'):\n",
    "        if surface:\n",
    "            di = etree_to_dict(surface)\n",
    "            surface_list.append(di)\n",
    "            DA['surfaceProperty'] = surface_list\n",
    "            #print(di)\n",
    "        else:\n",
    "            print(DA['UID'], DA['ERNAME'])\n",
    "    for surface in t.findall('{http://www.opengis.net/gml}multiSurfaceProperty'):\n",
    "        #print(surface)\n",
    "        #print(DA['UID'])\n",
    "        #print(DA['ERNAME'])\n",
    "        di = etree_to_dict(surface)\n",
    "        point_list = di['{http://www.opengis.net/gml}multiSurfaceProperty']['{http://www.opengis.net/gml}MultiSurface']['{http://www.opengis.net/gml}surfaceMember']\n",
    "        #print(len(point_list))\n",
    "        #print(\"Start_List\")\n",
    "        multi_surface_list = []\n",
    "        for l in point_list:\n",
    "            multi_surface_list.append(l['{http://www.opengis.net/gml}Surface']['{http://www.opengis.net/gml}patches']['{http://www.opengis.net/gml}PolygonPatch']['{http://www.opengis.net/gml}exterior']['{http://www.opengis.net/gml}LinearRing']['{http://www.opengis.net/gml}posList'])\n",
    "        DA['multiSurface'] = multi_surface_list\n",
    "        #print(\"End_list\")\n",
    "    DA_list.append(DA)\n",
    "#print(i)\n",
    "\n",
    "print(\"Number of Disemination Areas: %d\"%len(DA_list))\n",
    "print(\"Sample of data extracted:\")\n",
    "for DA in DA_list[0:2]:\n",
    "    print(DA)"
   ]
  },
  {
   "cell_type": "code",
   "execution_count": 6,
   "metadata": {},
   "outputs": [],
   "source": [
    "#function that converts the statscanada map projection into standard WGS84 for Google Earth\n",
    "def CRS_to_LL(CRS):\n",
    "    ll_list = []\n",
    "    inProj = Proj(init='epsg:3347')\n",
    "    outProj = Proj(init='epsg:4326')\n",
    "    for (x1, y1) in CRS:\n",
    "        ll_list.append(transform(inProj,outProj,x1,y1))\n",
    "    #print(ll_list)\n",
    "    return(ll_list)"
   ]
  },
  {
   "cell_type": "code",
   "execution_count": 7,
   "metadata": {},
   "outputs": [],
   "source": [
    "#faster version of the function above. Use this one, not the one above.\n",
    "def CRS_to_LL(CRS, transformer):\n",
    "    points = []\n",
    "    for pt in transformer.itransform(point_tuples):\n",
    "        points.append(pt[::-1])\n",
    "    #print(ll_list)\n",
    "    return(points)"
   ]
  },
  {
   "cell_type": "code",
   "execution_count": 8,
   "metadata": {},
   "outputs": [
    {
     "name": "stdout",
     "output_type": "stream",
     "text": [
      "Avalon Peninsula\n",
      "[(8977202.17999922, 2150836.79428611), (8977136.27714422, 2150650.26857111), (8977122.46571422, 2150596.22857111), (8977121.26856922, 2150564.04571611), (8977135.12571422, 2150492.93428611), (8977101.92571422, 2150483.54571611), (8977072.04571422, 2150475.00571611), (8977012.79714422, 2150458.65714611), (8976892.28285422, 2150426.98857111), (8976780.99428422, 2150389.63143111), (8976722.28571422, 2150362.41714611), (8976698.84571422, 2150446.45428611), (8976704.47714422, 2150513.22285611), (8976702.44571422, 2150543.01428611), (8976687.14571422, 2150575.49714611), (8976654.18571422, 2150614.93428611), (8976697.98285422, 2150649.80857111), (8976732.69142922, 2150654.29428611), (8976829.66571422, 2150653.51428611), (8976843.76285422, 2150656.44571611), (8976876.24571422, 2150671.74571611), (8976934.30571422, 2150689.70571611), (8977008.34285422, 2150723.27428611), (8977035.83142922, 2150743.62857111), (8977084.90285422, 2150807.51143111), (8977103.28856922, 2150819.88000111), (8977157.35714422, 2150844.90857111), (8977177.47714422, 2150844.78571611), (8977202.17999922, 2150836.79428611)]\n",
      "[(-52.75476121367244, 47.56542660452862), (-52.7568940920851, 47.5644041062663), (-52.75745500525805, 47.56408061538096), (-52.7577131980509, 47.56385170994321), (-52.758105598126235, 47.56326079402413), (-52.75853544537994, 47.56336346795631), (-52.75892299773083, 47.56345521333768), (-52.759687013774446, 47.563641404280006), (-52.761228997682295, 47.56403168573284), (-52.76271478680253, 47.564332803782584), (-52.763555806786314, 47.56443680505607), (-52.7631683994032, 47.56517159472455), (-52.76259880282512, 47.56563029388826), (-52.76239369647486, 47.56585839750465), (-52.762311288121445, 47.56617459891052), (-52.76236649166655, 47.56663268916702), (-52.76162799806897, 47.56666154423321), (-52.76121919311843, 47.56651528702369), (-52.76017848403369, 47.56600939356529), (-52.76000399323604, 47.56595809277451), (-52.75953680416562, 47.56590230511191), (-52.758773295312594, 47.56573401315876), (-52.75771839738625, 47.56559731407443), (-52.75726659451202, 47.56560419696779), (-52.75625009666005, 47.56581769716819), (-52.75595739900465, 47.565813199489085), (-52.75518310614051, 47.565717100441866), (-52.7549669018548, 47.56561241087775), (-52.75476121367244, 47.56542660452862)]\n"
     ]
    }
   ],
   "source": [
    "#this is a testing cell. Don't run this cell \n",
    "test_DA = DA_list[1]\n",
    "print(test_DA['ERNAME'])\n",
    "#print(test_DA)\n",
    "#print(test_DA['surfaceProperty'][0]['{http://www.opengis.net/gml}surfaceProperty']['{http://www.opengis.net/gml}Surface']['{http://www.opengis.net/gml}patches']['{http://www.opengis.net/gml}PolygonPatch']['{http://www.opengis.net/gml}exterior']['{http://www.opengis.net/gml}LinearRing']['{http://www.opengis.net/gml}posList'])\n",
    "\n",
    "point_string = test_DA['surfaceProperty'][0]['{http://www.opengis.net/gml}surfaceProperty']['{http://www.opengis.net/gml}Surface']['{http://www.opengis.net/gml}patches']['{http://www.opengis.net/gml}PolygonPatch']['{http://www.opengis.net/gml}exterior']['{http://www.opengis.net/gml}LinearRing']['{http://www.opengis.net/gml}posList']\n",
    "\n",
    "#convert the point list to a list of tuples\n",
    "point_list = [float(i) for i in point_string.split()]\n",
    "#print(point_list)\n",
    "lat_CRS = point_list[1::2]\n",
    "lon_CRS = point_list[::2]\n",
    "point_tuples = [(y,x) for x,y in zip(lat_CRS, lon_CRS)]\n",
    "\n",
    "print(point_tuples)\n",
    "#points = CRS_to_LL(point_tuples)\n",
    "\n",
    "transformer = Transformer.from_crs(\"EPSG:3347\", \"EPSG:4326\")\n",
    "points = []\n",
    "for pt in transformer.itransform(point_tuples):\n",
    "    points.append(pt[::-1])\n",
    "    \n",
    "\n",
    "print(points)\n",
    "\n",
    "\n",
    "\n",
    "\n"
   ]
  },
  {
   "cell_type": "code",
   "execution_count": 9,
   "metadata": {},
   "outputs": [],
   "source": [
    "#take the list of all DAs in Canada and transform their coordinates to WGS84.\n",
    "#then they get put in a list called \"LL_list\"\n",
    "LL_list = []\n",
    "transformer = Transformer.from_crs(\"EPSG:3347\", \"EPSG:4326\")\n",
    "for DA in DA_list:\n",
    "    #print(DA['UID'], DA['ERNAME'])\n",
    "    if 'surfaceProperty' in DA:\n",
    "        point_string = DA['surfaceProperty'][0]['{http://www.opengis.net/gml}surfaceProperty']['{http://www.opengis.net/gml}Surface']['{http://www.opengis.net/gml}patches']['{http://www.opengis.net/gml}PolygonPatch']['{http://www.opengis.net/gml}exterior']['{http://www.opengis.net/gml}LinearRing']['{http://www.opengis.net/gml}posList']\n",
    "        #print(len(point_string))\n",
    "        point_list = [float(i) for i in point_string.split()]\n",
    "        lat_CRS = point_list[1::2]\n",
    "        lon_CRS = point_list[::2]\n",
    "        point_tuples = [(y,x) for x,y in zip(lat_CRS, lon_CRS)]\n",
    "        #print(len(point_tuples))\n",
    "        points = CRS_to_LL(point_tuples, transformer)\n",
    "        #print(points[0])\n",
    "        DA[\"ll_points\"] = [points]\n",
    "\n",
    "    if 'multiSurface' in DA:\n",
    "        #print(len(DA['multiSurface']))\n",
    "        points = []\n",
    "        for poly in DA['multiSurface']:\n",
    "            point_list = [float(i) for i in poly.split()]\n",
    "            lat_CRS = point_list[1::2]\n",
    "            lon_CRS = point_list[::2]\n",
    "            point_tuples = [(y,x) for x,y in zip(lat_CRS, lon_CRS)]\n",
    "            ll_points = CRS_to_LL(point_tuples, transformer)\n",
    "            #print(ll_points[0:10])\n",
    "            points.append(ll_points)\n",
    "        DA['ll_points'] = points\n",
    "    LL_list.append(DA)\n",
    "\n"
   ]
  },
  {
   "cell_type": "code",
   "execution_count": 10,
   "metadata": {
    "scrolled": true
   },
   "outputs": [
    {
     "name": "stdout",
     "output_type": "stream",
     "text": [
      "{'UID': 62080024, 'ERNAME': 'Nunavut', 'surfaceProperty': [{'{http://www.opengis.net/gml}surfaceProperty': {'{http://www.opengis.net/gml}Surface': {'{http://www.opengis.net/gml}patches': {'{http://www.opengis.net/gml}PolygonPatch': {'{http://www.opengis.net/gml}exterior': {'{http://www.opengis.net/gml}LinearRing': {'{http://www.opengis.net/gml}posList': '5692727.89142989 3672467.17428446 5692835.75714489 3672415.73714446 5692863.30571489 3672451.53142946 5692915.68571489 3672512.39714446 5692998.10856989 3672443.89714446 5693019.75428489 3672424.44856946 5693034.16285488 3672410.67999946 5693058.90285489 3672390.88856946 5693090.88571489 3672368.22285446 5693110.69714489 3672358.03428446 5693133.93714489 3672347.12571446 5693196.04571489 3672329.01999946 5693275.59999989 3672318.47428446 5693287.42571489 3672312.19714446 5693303.95714489 3672313.20285446 5693337.03714489 3672329.93999946 5693405.32233989 3672332.44512446 5693242.36856989 3672202.27999946 5693072.65428489 3672110.89428446 5692896.41142988 3672087.39714446 5692750.19428489 3672116.11714446 5692585.70285489 3672153.97714446 5692404.23999989 3672221.86285446 5692233.21999989 3672275.38856946 5692161.05428489 3672335.71999946 5692135.77428489 3672390.74856946 5692100.71714489 3672399.08285446 5692094.90001489 3672396.83118946 5692084.29142989 3672476.63142946 5692172.68285489 3672569.51428446 5692209.12856989 3672595.70856946 5692315.69142989 3672636.39999946 5692344.49142988 3672636.49142946 5692373.58856989 3672627.49428446 5692432.74571489 3672604.13714446 5692518.21999989 3672565.18571446 5692639.80856989 3672508.49714446 5692678.85714489 3672492.35714446 5692727.89142989 3672467.17428446'}}}}, '@srsName': 'urn:ogc:def:crs:EPSG::3347', '@srsDimension': '2'}}}], 'll_points': [[(-105.05856438640805, 69.11674109969907), (-105.05556558955035, 69.11648201048177), (-105.05505979545046, 69.11685691410844), (-105.05405981985682, 69.11750490451458), (-105.05161317489427, 69.11704369317323), (-105.0509629046939, 69.11690941085268), (-105.0505256830716, 69.1168126091446), (-105.04979542138813, 69.11668109762871), (-105.04886689385914, 69.11653740137764), (-105.04831219454155, 69.11648310699984), (-105.04766704416551, 69.11642881853496), (-105.04600158238854, 69.11638330889514), (-105.04393547602947, 69.11643899039423), (-105.04360333861581, 69.11640481052564), (-105.04319097783156, 69.1164451983994), (-105.042444015354, 69.11665875197765), (-105.04073191310434, 69.11681069579339), (-105.044158045156, 69.1153285703683), (-105.04796051365444, 69.1141831427621), (-105.05228823913751, 69.11363723443237), (-105.05613476204853, 69.11361886867829), (-105.06049152826397, 69.11364814235841), (-105.0654367383831, 69.11391575596875), (-105.07004184950387, 69.11407361792789), (-105.07218595707734, 69.11448042453574), (-105.0731174493217, 69.11492844110334), (-105.07404745238748, 69.11493699270544), (-105.0741824255733, 69.11490564972256), (-105.07487518123108, 69.11560480478269), (-105.0731364237864, 69.1166098871962), (-105.07235503484476, 69.11691520185015), (-105.06987920259715, 69.11748430880003), (-105.069152023997, 69.1175398061209), (-105.06836897615531, 69.11751394076558), (-105.06675002699436, 69.11741568663743), (-105.06438320582834, 69.11722679231224), (-105.06100962777298, 69.11694649897667), (-105.05993719352733, 69.11687508908686), (-105.05856438640805, 69.11674109969907)]]}\n"
     ]
    }
   ],
   "source": [
    "#print a random DA to check to see that the cell above worked.\n",
    "for DA in DA_list:\n",
    "    if DA['UID'] == 62080024:\n",
    "        print(DA)"
   ]
  },
  {
   "cell_type": "code",
   "execution_count": 11,
   "metadata": {},
   "outputs": [],
   "source": [
    "#make a list of polygons as well as a list of UIDs for each DA. \n",
    "poly_list = []\n",
    "UID_list = []\n",
    "for DA in LL_list:\n",
    "    #print(DA.keys())\n",
    "    if 'll_points' in DA:\n",
    "        poly_list.append(DA['ll_points'])\n",
    "        UID_list.append(DA['UID'])\n",
    "        \n",
    "#print(poly_list[0])\n",
    "#print(UID_list)"
   ]
  },
  {
   "cell_type": "code",
   "execution_count": null,
   "metadata": {},
   "outputs": [],
   "source": []
  },
  {
   "cell_type": "code",
   "execution_count": 12,
   "metadata": {},
   "outputs": [],
   "source": [
    "#load the census population data\n",
    "filename = [\"2016_census_data\\\\T1901EN.CSV\"]\n",
    "in_df = pd.read_csv(filename[0], engine = None, encoding = 'utf-8')\n",
    "in_df.drop(in_df.tail(6).index,inplace=True) #drop the last few rows which aren't data"
   ]
  },
  {
   "cell_type": "code",
   "execution_count": 13,
   "metadata": {},
   "outputs": [
    {
     "name": "stdout",
     "output_type": "stream",
     "text": [
      "  Geographic code Province / territory, english Province / territory, french  \\\n",
      "0        10010165     Newfoundland and Labrador      Terre-Neuve-et-Labrador   \n",
      "1        10010166     Newfoundland and Labrador      Terre-Neuve-et-Labrador   \n",
      "2        10010167     Newfoundland and Labrador      Terre-Neuve-et-Labrador   \n",
      "3        10010168     Newfoundland and Labrador      Terre-Neuve-et-Labrador   \n",
      "4        10010169     Newfoundland and Labrador      Terre-Neuve-et-Labrador   \n",
      "\n",
      "   Geographic code, Province / territory  Geographic code, Census division  \\\n",
      "0                                   10.0                            1001.0   \n",
      "1                                   10.0                            1001.0   \n",
      "2                                   10.0                            1001.0   \n",
      "3                                   10.0                            1001.0   \n",
      "4                                   10.0                            1001.0   \n",
      "\n",
      "   Geographic code, Census subdivision  Population, 2016  \\\n",
      "0                            1001519.0             506.0   \n",
      "1                            1001519.0             327.0   \n",
      "2                            1001519.0             431.0   \n",
      "3                            1001519.0             524.0   \n",
      "4                            1001519.0             311.0   \n",
      "\n",
      "  Incompletely enumerated Indian reserves and Indian settlements, 2016  \\\n",
      "0                                                  F                     \n",
      "1                                                  F                     \n",
      "2                                                  F                     \n",
      "3                                                  F                     \n",
      "4                                                  F                     \n",
      "\n",
      "   Total private dwellings, 2016  \\\n",
      "0                          229.0   \n",
      "1                          161.0   \n",
      "2                          201.0   \n",
      "3                          273.0   \n",
      "4                          134.0   \n",
      "\n",
      "   Private dwellings occupied by usual residents, 2016  \\\n",
      "0                                              213.0     \n",
      "1                                              147.0     \n",
      "2                                              181.0     \n",
      "3                                              242.0     \n",
      "4                                              131.0     \n",
      "\n",
      "   Land area in square kilometres, 2016  \\\n",
      "0                                  0.38   \n",
      "1                                  0.10   \n",
      "2                                  0.13   \n",
      "3                                  0.19   \n",
      "4                                  0.07   \n",
      "\n",
      "   Population density per square kilometre, 2016  Unnamed: 12  \n",
      "0                                         1326.3          NaN  \n",
      "1                                         3427.7          NaN  \n",
      "2                                         3407.1          NaN  \n",
      "3                                         2743.5          NaN  \n",
      "4                                         4705.0          NaN  \n"
     ]
    }
   ],
   "source": [
    "print(in_df.head())"
   ]
  },
  {
   "cell_type": "code",
   "execution_count": 14,
   "metadata": {},
   "outputs": [],
   "source": [
    "#convert the Geographic ID to a numeric\n",
    "in_df['Geographic code'] = pd.to_numeric(in_df['Geographic code'])"
   ]
  },
  {
   "cell_type": "code",
   "execution_count": 15,
   "metadata": {},
   "outputs": [],
   "source": [
    "#had trouble putting a list of lists into a pandas cell... so lets make a dictionary for lookup. \n",
    "DA_positions = {}\n",
    "DA_ERNAME = {}\n",
    "for DA in DA_list:\n",
    "    DAUID = DA['UID']\n",
    "    DA_positions[DAUID] = DA['ll_points']\n",
    "    DA_ERNAME[DAUID] = DA['ERNAME']\n",
    "    "
   ]
  },
  {
   "cell_type": "code",
   "execution_count": 16,
   "metadata": {},
   "outputs": [
    {
     "name": "stdout",
     "output_type": "stream",
     "text": [
      "['Newfoundland and Labrador' 'Prince Edward Island' 'Nova Scotia'\n",
      " 'New Brunswick' 'Quebec' 'Ontario' 'Manitoba' 'Saskatchewan' 'Alberta'\n",
      " 'British Columbia' 'Yukon' 'Northwest Territories' 'Nunavut']\n"
     ]
    }
   ],
   "source": [
    "#get a list of the provinces in the census data. We'll use this to generate the file names of hte kmz\n",
    "provinces = in_df['Province / territory, english'].unique()\n",
    "print(provinces)"
   ]
  },
  {
   "cell_type": "code",
   "execution_count": 17,
   "metadata": {},
   "outputs": [
    {
     "name": "stdout",
     "output_type": "stream",
     "text": [
      "[0, 0.1, 1, 2, 5, 10, 20, 25, 50]\n",
      "[0, 0, 0, 0, 0, 0, 0, 0, 0]\n"
     ]
    }
   ],
   "source": [
    "#make a graph of land area available vs. population density. \n",
    "\n",
    "density_vector = [0, 0.1, 1,2,5, 10, 20, 25, 50]\n",
    "area_vector = [0 for i in range(len(density_vector))]\n",
    "print(density_vector)\n",
    "print(area_vector)"
   ]
  },
  {
   "cell_type": "code",
   "execution_count": 18,
   "metadata": {},
   "outputs": [
    {
     "name": "stdout",
     "output_type": "stream",
     "text": [
      "[7097603.489999995, 7483713.049999991, 8308629.14999999, 8503106.729999987, 8684695.719999976, 8794122.489999974, 8872868.859999971, 8890088.399999969, 8923053.429999977]\n",
      "8965590.680000143\n"
     ]
    }
   ],
   "source": [
    "total_area = 0\n",
    "\n",
    "for idx, r in in_df.iterrows():\n",
    "    land_area = r['Land area in square kilometres, 2016']\n",
    "    pop_density = r['Population density per square kilometre, 2016']\n",
    "    total_area+=land_area\n",
    "    for i, d in enumerate(density_vector):\n",
    "        if pop_density<=d:\n",
    "            area_vector[i] += land_area\n",
    "print(area_vector)\n",
    "    \n",
    "print(total_area)"
   ]
  },
  {
   "cell_type": "code",
   "execution_count": 19,
   "metadata": {},
   "outputs": [
    {
     "data": {
      "image/png": "[encoded data removed]",
      "text/plain": [
       "<Figure size 432x288 with 1 Axes>"
      ]
     },
     "metadata": {
      "needs_background": "light"
     },
     "output_type": "display_data"
    }
   ],
   "source": [
    "\n",
    "# Data for plotting\n",
    "t = density_vector\n",
    "#myList[:] = [x / myInt for x in myList]\n",
    "s = [x*100/total_area for x in area_vector]\n",
    "\n",
    "fig, ax = plt.subplots()\n",
    "ax.plot(t, s)\n",
    "\n",
    "ax.set(xlabel='Population Density, people/km^2', ylabel='Percent of Land Area Available',\n",
    "       title='Area Allowed for Isolated BVLOS vs. Population Density (2016 Census)')\n",
    "ax.grid()\n",
    "\n",
    "fig.savefig(\"Landmass vs Pop Density.png\")\n",
    "plt.show()"
   ]
  },
  {
   "cell_type": "code",
   "execution_count": null,
   "metadata": {},
   "outputs": [],
   "source": []
  },
  {
   "cell_type": "code",
   "execution_count": null,
   "metadata": {},
   "outputs": [],
   "source": []
  },
  {
   "cell_type": "code",
   "execution_count": null,
   "metadata": {},
   "outputs": [],
   "source": []
  },
  {
   "cell_type": "code",
   "execution_count": 20,
   "metadata": {},
   "outputs": [
    {
     "name": "stdout",
     "output_type": "stream",
     "text": [
      "Newfoundland and Labrador\n",
      "Prince Edward Island\n",
      "Nova Scotia\n",
      "New Brunswick\n",
      "Quebec\n",
      "Ontario\n",
      "Manitoba\n",
      "Saskatchewan\n",
      "Alberta\n",
      "British Columbia\n",
      "Yukon\n",
      "Northwest Territories\n",
      "Nunavut\n"
     ]
    }
   ],
   "source": [
    "#Main loop... go through each province, and for each make a kmz file that has GREEN\n",
    "#for areas with less than the density_threshold number of people, and RED\n",
    "#for areas with more. \n",
    "\n",
    "\n",
    "density_threshold =5\n",
    "\n",
    "for province in provinces:\n",
    "    print(province)\n",
    "    province_df = in_df[in_df['Province / territory, english'] == province]\n",
    "    \n",
    "    kmz_filename = province + \".kmz\"\n",
    "    kml = simplekml.Kml()\n",
    "    #kml.document.description = description_string\n",
    "    high_density_folder = kml.newfolder(name=str(\"More than %d people per square kilometer.\"%density_threshold))\n",
    "    low_density_folder  = kml.newfolder(name=str(\"Less than %d people per square kilometer.\"%density_threshold))\n",
    "    for index, row in province_df.iterrows():\n",
    "        DAUID = row['Geographic code']\n",
    "        #print(DAUID)\n",
    "        \n",
    "        #fol = kml.newfolder(name=str(DAUID))\n",
    "        if int(DAUID) in DA_positions:\n",
    "            for i, ring in enumerate(DA_positions[int(DAUID)]):\n",
    "\n",
    "                #create a description string for each polygon:\n",
    "                description_string = \"DA_UID: %s\"%DAUID\n",
    "                description_string += \"\\nPopulation: %s\"%row['Population, 2016']\n",
    "                description_string += \"\\nPopulation Density: %s\"%row['Population density per square kilometre, 2016']\n",
    "                #print(description_string)\n",
    "                #print(i, len(ring))\n",
    "                #print(ring)\n",
    "                \n",
    "                if row['Population density per square kilometre, 2016'] >= density_threshold:\n",
    "                    pol = high_density_folder.newpolygon(name=DA_ERNAME[DAUID],\n",
    "                                     outerboundaryis=ring,\n",
    "                                        description=description_string)\n",
    "                    pol.style.polystyle.color = simplekml.Color.changealphaint(200, simplekml.Color.red)\n",
    "                else:\n",
    "                    pol = low_density_folder.newpolygon(name=DA_ERNAME[DAUID],\n",
    "                                     outerboundaryis=ring,\n",
    "                                        description=description_string)\n",
    "                    pol.style.polystyle.color = simplekml.Color.changealphaint(200, simplekml.Color.green)\n",
    "                    \n",
    "    #print(kml.kml())\n",
    "    kml.savekmz(kmz_filename)"
   ]
  },
  {
   "cell_type": "code",
   "execution_count": null,
   "metadata": {},
   "outputs": [],
   "source": [
    "#Main loop... go through each province, and for each make a kmz file that has show a range of population densities. \n",
    "#given a vector of densities make some coloured folders. \n",
    "\n",
    "\n",
    "\n",
    "\n",
    "density_threshold = [5, 10, 15, 20, 100, 200]\n",
    "land_areas = [0.] * len(density_threshold)\n",
    "print(land_areas)\n",
    "#colours = red, orange, yellow, green, blue, purple\n",
    "colours = ['99000000',\n",
    "           simplekml.Color.blue, \n",
    "           simplekml.Color.green, \n",
    "           simplekml.Color.yellow, \n",
    "           simplekml.Color.orange,\n",
    "           simplekml.Color.red]\n",
    "#colours = [simplekml.Color.yellow, simplekml.Color.red]\n",
    "\n",
    "\n",
    "\n",
    "for province in provinces:\n",
    "    print(province)\n",
    "    province_df = in_df[in_df['Province / territory, english'] == province]\n",
    "    \n",
    "    kmz_filename = province + \".kmz\"\n",
    "    kml = simplekml.Kml()\n",
    "    #kml.document.description = description_string\n",
    "    folder1 = kml.newfolder(name=str(\"More than %d people per square kilometer.\"%density_threshold[0]))\n",
    "    folder2  = kml.newfolder(name=str(\"More than %d people per square kilometer.\"%density_threshold[1]))\n",
    "    folder3  = kml.newfolder(name=str(\"More than %d people per square kilometer.\"%density_threshold[2]))\n",
    "    folder4  = kml.newfolder(name=str(\"More than %d people per square kilometer.\"%density_threshold[3]))\n",
    "    folder5  = kml.newfolder(name=str(\"More than %d people per square kilometer.\"%density_threshold[4]))\n",
    "    folder6  = kml.newfolder(name=str(\"More than %d people per square kilometer.\"%density_threshold[5]))\n",
    "    folders = [folder1, folder2, folder3, folder4, folder5, folder6]\n",
    "    for index, row in province_df.iterrows():\n",
    "        DAUID = row['Geographic code']\n",
    "        #print(DAUID) \n",
    "        \n",
    "        #fol = kml.newfolder(name=str(DAUID))\n",
    "        if int(DAUID) in DA_positions:\n",
    "            for i, ring in enumerate(DA_positions[int(DAUID)]):\n",
    "\n",
    "                #create a description string for each polygon:\n",
    "                description_string = \"DA_UID: %s\"%DAUID\n",
    "                description_string += \"\\nPopulation: %s\"%row['Population, 2016']\n",
    "                description_string += \"\\nPopulation Density: %s\"%row['Population density per square kilometre, 2016']\n",
    "                #print(description_string)\n",
    "                #print(i, len(ring))\n",
    "                #print(ring)\n",
    "                \n",
    "                for i, density in enumerate(density_threshold):\n",
    "                    if row['Population density per square kilometre, 2016'] >= density:\n",
    "                        pol = folders[i].newpolygon(name=DA_ERNAME[DAUID],\n",
    "                                         outerboundaryis=ring,\n",
    "                                            description=description_string)\n",
    "                        pol.style.polystyle.color = simplekml.Color.changealphaint(200, colours[i])\n",
    "                        #sum the land area so we can figure out how much land is covered by each population density.\n",
    "                        land_areas[i] += row['Land area in square kilometres, 2016']\n",
    "    print(land_areas)\n",
    "                    \n",
    "    #print(kml.kml())\n",
    "    #print(land_areas)\n",
    "    kml.savekmz(kmz_filename)"
   ]
  },
  {
   "cell_type": "code",
   "execution_count": null,
   "metadata": {},
   "outputs": [],
   "source": [
    "#Make a separate file for each population density\n",
    "\n",
    "\n",
    "\n",
    "density_threshold = [5, 10, 15, 25]\n",
    "land_areas = [0.] * len(density_threshold)\n",
    "print(land_areas)\n",
    "#colours = red, orange, yellow, green, blue, purple\n",
    "colours = ['99000000',\n",
    "           simplekml.Color.blue, \n",
    "           simplekml.Color.green, \n",
    "           simplekml.Color.yellow, \n",
    "           simplekml.Color.orange,\n",
    "           simplekml.Color.red]\n",
    "\n",
    "\n",
    "\n",
    "\n",
    "for density in density_threshold:\n",
    "    print(density)\n",
    "    density_df = in_df[in_df['Population density per square kilometre, 2016'] > density]\n",
    "    \n",
    "    kmz_filename = str(density) + \".kmz\"\n",
    "    kml = simplekml.Kml()\n",
    "    #kml.document.description = description_string\n",
    "    folder1 = kml.newfolder(name=str(\"More than %d people per square kilometer.\"%density))\n",
    "    folders = [folder1]\n",
    "    for index, row in density_df.iterrows():\n",
    "        DAUID = row['Geographic code']\n",
    "        #print(DAUID)\n",
    "        \n",
    "        #fol = kml.newfolder(name=str(DAUID))\n",
    "        if int(DAUID) in DA_positions:\n",
    "            for i, ring in enumerate(DA_positions[int(DAUID)]):\n",
    "\n",
    "                #create a description string for each polygon:\n",
    "                description_string = \"DA_UID: %s\"%DAUID\n",
    "                description_string += \"\\nPopulation: %s\"%row['Population, 2016']\n",
    "                description_string += \"\\nPopulation Density: %s\"%row['Population density per square kilometre, 2016']\n",
    "                #print(description_string)\n",
    "                #print(i, len(ring))\n",
    "                #print(ring)\n",
    "                \n",
    "                \n",
    "                pol = folders[0].newpolygon(name=DA_ERNAME[DAUID],\n",
    "                                 outerboundaryis=ring,\n",
    "                                    description=description_string)\n",
    "                pol.style.polystyle.color = simplekml.Color.changealphaint(200, colours[5])\n",
    "                #sum the land area so we can figure out how much land is covered by each population density.\n",
    "                #land_areas[i] += row['Land area in square kilometres, 2016']\n",
    "    print(land_areas)\n",
    "                    \n",
    "    #print(kml.kml())\n",
    "    #print(land_areas)\n",
    "    kml.savekmz(kmz_filename)"
   ]
  }
 ],
 "metadata": {
  "kernelspec": {
   "display_name": "Python 3",
   "language": "python",
   "name": "python3"
  },
  "language_info": {
   "codemirror_mode": {
    "name": "ipython",
    "version": 3
   },
   "file_extension": ".py",
   "mimetype": "text/x-python",
   "name": "python",
   "nbconvert_exporter": "python",
   "pygments_lexer": "ipython3",
   "version": "3.6.10"
  }
 },
 "nbformat": 4,
 "nbformat_minor": 2
}
